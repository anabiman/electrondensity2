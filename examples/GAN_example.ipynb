{
 "cells": [
  {
   "cell_type": "markdown",
   "metadata": {},
   "source": [
    "## Restoring, training and sampling the model"
   ]
  },
  {
   "cell_type": "code",
   "execution_count": 1,
   "metadata": {},
   "outputs": [],
   "source": [
    "import os\n",
    "import os\n",
    "import pickle\n",
    "import numpy as np\n",
    "import tqdm\n",
    "os.environ[\"CUDA_VISIBLE_DEVICES\"]=\"0\"\n",
    "import tensorflow as tf\n"
   ]
  },
  {
   "cell_type": "code",
   "execution_count": 2,
   "metadata": {},
   "outputs": [],
   "source": [
    "os.chdir('/home/jarek/electrondensity2')\n",
    "from input.tfrecords import input_fn\n",
    "from layers import Generator_v3, Discriminator_v3\n",
    "from utils import  transorm_ed, transorm_back_ed\n",
    "from gan import GP_WGAN, GANTrainer"
   ]
  },
  {
   "cell_type": "code",
   "execution_count": 3,
   "metadata": {},
   "outputs": [],
   "source": [
    "# import model parameters\n",
    "from model_4 import generator_config, discrimator_config"
   ]
  },
  {
   "cell_type": "code",
   "execution_count": 4,
   "metadata": {},
   "outputs": [
    {
     "name": "stdout",
     "output_type": "stream",
     "text": [
      "INFO:tensorflow:Using MirroredStrategy with devices ('/job:localhost/replica:0/task:0/device:GPU:0',)\n"
     ]
    }
   ],
   "source": [
    "gan = GP_WGAN(Generator_v3, Discriminator_v3, generator_config, discrimator_config,\n",
    "              distributed_training=True)"
   ]
  },
  {
   "cell_type": "code",
   "execution_count": 5,
   "metadata": {},
   "outputs": [],
   "source": [
    "# train the model for 100 training steps"
   ]
  },
  {
   "cell_type": "code",
   "execution_count": 6,
   "metadata": {},
   "outputs": [],
   "source": [
    "trainer = GANTrainer(gan, num_training_steps=100, \n",
    "                      steps_train_discriminator=5)"
   ]
  },
  {
   "cell_type": "code",
   "execution_count": 7,
   "metadata": {},
   "outputs": [
    {
     "name": "stderr",
     "output_type": "stream",
     "text": [
      "\r",
      "  0%|          | 0/100 [00:00<?, ?it/s]"
     ]
    },
    {
     "name": "stdout",
     "output_type": "stream",
     "text": [
      "WARNING:tensorflow:From /home/jarek/electrondensity2/gan.py:116: StrategyBase.experimental_run_v2 (from tensorflow.python.distribute.distribute_lib) is deprecated and will be removed in a future version.\n",
      "Instructions for updating:\n",
      "renamed to `run`\n",
      "\n",
      "D loss 16.00690269470215, G loss 428.8562927246094\n",
      "Run avgs D loss 0.7926068305969238, G loss 4.288562774658203\n",
      "\n",
      "Electron density saved to /home/jarek/electrondensity2/generated_ed.pkl\n",
      "INFO:tensorflow:Reduce to /job:localhost/replica:0/task:0/device:CPU:0 then broadcast to ('/job:localhost/replica:0/task:0/device:CPU:0',).\n",
      "INFO:tensorflow:Reduce to /job:localhost/replica:0/task:0/device:CPU:0 then broadcast to ('/job:localhost/replica:0/task:0/device:CPU:0',).\n",
      "INFO:tensorflow:Reduce to /job:localhost/replica:0/task:0/device:CPU:0 then broadcast to ('/job:localhost/replica:0/task:0/device:CPU:0',).\n",
      "INFO:tensorflow:Reduce to /job:localhost/replica:0/task:0/device:CPU:0 then broadcast to ('/job:localhost/replica:0/task:0/device:CPU:0',).\n",
      "INFO:tensorflow:Reduce to /job:localhost/replica:0/task:0/device:CPU:0 then broadcast to ('/job:localhost/replica:0/task:0/device:CPU:0',).\n",
      "INFO:tensorflow:Reduce to /job:localhost/replica:0/task:0/device:CPU:0 then broadcast to ('/job:localhost/replica:0/task:0/device:CPU:0',).\n",
      "INFO:tensorflow:Reduce to /job:localhost/replica:0/task:0/device:CPU:0 then broadcast to ('/job:localhost/replica:0/task:0/device:CPU:0',).\n",
      "INFO:tensorflow:Reduce to /job:localhost/replica:0/task:0/device:CPU:0 then broadcast to ('/job:localhost/replica:0/task:0/device:CPU:0',).\n",
      "INFO:tensorflow:Reduce to /job:localhost/replica:0/task:0/device:CPU:0 then broadcast to ('/job:localhost/replica:0/task:0/device:CPU:0',).\n",
      "INFO:tensorflow:Reduce to /job:localhost/replica:0/task:0/device:CPU:0 then broadcast to ('/job:localhost/replica:0/task:0/device:CPU:0',).\n"
     ]
    },
    {
     "name": "stderr",
     "output_type": "stream",
     "text": [
      "\r",
      "  1%|          | 1/100 [00:36<59:27, 36.04s/it]"
     ]
    },
    {
     "name": "stdout",
     "output_type": "stream",
     "text": [
      "Generator saved to /media/group/d22cc883-8622-4ecd-8e46-e3b0850bb89a2/jarek/models/gen.ckpt-1\n",
      "Discriminator saved to /media/group/d22cc883-8622-4ecd-8e46-e3b0850bb89a2/jarek/models/dis.ckpt-1\n"
     ]
    },
    {
     "name": "stderr",
     "output_type": "stream",
     "text": [
      " 11%|█         | 11/100 [01:11<06:39,  4.49s/it]"
     ]
    },
    {
     "name": "stdout",
     "output_type": "stream",
     "text": [
      "\n",
      "D loss 181.60943603515625, G loss -481.39495849609375\n",
      "Run avgs D loss 79.60107421875, G loss -43.43825912475586\n",
      "\n",
      "Electron density saved to /home/jarek/electrondensity2/generated_ed.pkl\n"
     ]
    },
    {
     "name": "stderr",
     "output_type": "stream",
     "text": [
      " 21%|██        | 21/100 [01:46<04:42,  3.57s/it]"
     ]
    },
    {
     "name": "stdout",
     "output_type": "stream",
     "text": [
      "\n",
      "D loss 416.8515930175781, G loss 3414.331298828125\n",
      "Run avgs D loss 212.6756134033203, G loss 281.1488037109375\n",
      "\n",
      "Electron density saved to /home/jarek/electrondensity2/generated_ed.pkl\n"
     ]
    },
    {
     "name": "stderr",
     "output_type": "stream",
     "text": [
      " 31%|███       | 31/100 [02:22<04:04,  3.54s/it]"
     ]
    },
    {
     "name": "stdout",
     "output_type": "stream",
     "text": [
      "\n",
      "D loss 797.0950927734375, G loss -3412.67578125\n",
      "Run avgs D loss 473.0943298339844, G loss -64.97976684570312\n",
      "\n",
      "Electron density saved to /home/jarek/electrondensity2/generated_ed.pkl\n"
     ]
    },
    {
     "name": "stderr",
     "output_type": "stream",
     "text": [
      " 41%|████      | 41/100 [02:57<03:29,  3.55s/it]"
     ]
    },
    {
     "name": "stdout",
     "output_type": "stream",
     "text": [
      "\n",
      "D loss 1330.0411376953125, G loss 27357.802734375\n",
      "Run avgs D loss 798.0452880859375, G loss 2530.875244140625\n",
      "\n",
      "Electron density saved to /home/jarek/electrondensity2/generated_ed.pkl\n"
     ]
    },
    {
     "name": "stderr",
     "output_type": "stream",
     "text": [
      " 51%|█████     | 51/100 [03:32<02:53,  3.55s/it]"
     ]
    },
    {
     "name": "stdout",
     "output_type": "stream",
     "text": [
      "\n",
      "D loss 849.0863037109375, G loss 5508.9326171875\n",
      "Run avgs D loss 806.6558227539062, G loss 2807.391845703125\n",
      "\n",
      "Electron density saved to /home/jarek/electrondensity2/generated_ed.pkl\n"
     ]
    },
    {
     "name": "stderr",
     "output_type": "stream",
     "text": [
      " 61%|██████    | 61/100 [04:07<02:18,  3.55s/it]"
     ]
    },
    {
     "name": "stdout",
     "output_type": "stream",
     "text": [
      "\n",
      "D loss 1055.7259521484375, G loss 1336.53271484375\n",
      "Run avgs D loss 906.5234985351562, G loss 2666.91455078125\n",
      "\n",
      "Electron density saved to /home/jarek/electrondensity2/generated_ed.pkl\n"
     ]
    },
    {
     "name": "stderr",
     "output_type": "stream",
     "text": [
      " 71%|███████   | 71/100 [04:43<01:42,  3.55s/it]"
     ]
    },
    {
     "name": "stdout",
     "output_type": "stream",
     "text": [
      "\n",
      "D loss 1313.27490234375, G loss 1867.3441162109375\n",
      "Run avgs D loss 1048.4312744140625, G loss 2589.517822265625\n",
      "\n",
      "Electron density saved to /home/jarek/electrondensity2/generated_ed.pkl\n"
     ]
    },
    {
     "name": "stderr",
     "output_type": "stream",
     "text": [
      " 81%|████████  | 81/100 [05:18<01:07,  3.55s/it]"
     ]
    },
    {
     "name": "stdout",
     "output_type": "stream",
     "text": [
      "\n",
      "D loss 830.7742309570312, G loss 1314.4578857421875\n",
      "Run avgs D loss 967.6922607421875, G loss 2467.500244140625\n",
      "\n",
      "Electron density saved to /home/jarek/electrondensity2/generated_ed.pkl\n"
     ]
    },
    {
     "name": "stderr",
     "output_type": "stream",
     "text": [
      " 91%|█████████ | 91/100 [05:53<00:31,  3.55s/it]"
     ]
    },
    {
     "name": "stdout",
     "output_type": "stream",
     "text": [
      "\n",
      "D loss 648.901611328125, G loss 1435.2373046875\n",
      "Run avgs D loss 834.263916015625, G loss 2368.335205078125\n",
      "\n",
      "Electron density saved to /home/jarek/electrondensity2/generated_ed.pkl\n"
     ]
    },
    {
     "name": "stderr",
     "output_type": "stream",
     "text": [
      "100%|██████████| 100/100 [06:25<00:00,  3.85s/it]\n"
     ]
    }
   ],
   "source": [
    "trainer.train()"
   ]
  },
  {
   "cell_type": "code",
   "execution_count": 8,
   "metadata": {},
   "outputs": [],
   "source": [
    "# restore the model \n",
    "gan.restore('/media/group/d22cc883-8622-4ecd-8e46-e3b0850bb89a2/jarek/model_4/dis.ckpt-190',\n",
    "            '/media/group/d22cc883-8622-4ecd-8e46-e3b0850bb89a2/jarek/model_4/gen.ckpt-190')"
   ]
  },
  {
   "cell_type": "code",
   "execution_count": 9,
   "metadata": {
    "scrolled": true
   },
   "outputs": [
    {
     "name": "stderr",
     "output_type": "stream",
     "text": [
      "\r",
      "  0%|          | 0/4 [00:00<?, ?it/s]"
     ]
    },
    {
     "name": "stdout",
     "output_type": "stream",
     "text": [
      "Electron density saved to /home/jarek/samples.pkl\n"
     ]
    },
    {
     "name": "stderr",
     "output_type": "stream",
     "text": [
      "100%|██████████| 4/4 [00:01<00:00,  3.26it/s]\n"
     ]
    }
   ],
   "source": [
    "# sample 100 cubes and pickle them to disk\n",
    "a = gan.sample_model('/home/jarek/samples.pkl', num_samples=100)"
   ]
  },
  {
   "cell_type": "code",
   "execution_count": null,
   "metadata": {},
   "outputs": [],
   "source": []
  }
 ],
 "metadata": {
  "kernelspec": {
   "display_name": "Python 3",
   "language": "python",
   "name": "python3"
  },
  "language_info": {
   "codemirror_mode": {
    "name": "ipython",
    "version": 3
   },
   "file_extension": ".py",
   "mimetype": "text/x-python",
   "name": "python",
   "nbconvert_exporter": "python",
   "pygments_lexer": "ipython3",
   "version": "3.8.5"
  }
 },
 "nbformat": 4,
 "nbformat_minor": 4
}
